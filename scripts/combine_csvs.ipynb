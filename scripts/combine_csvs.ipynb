{
 "cells": [
  {
   "cell_type": "code",
   "execution_count": null,
   "id": "1625bd2a",
   "metadata": {},
   "outputs": [],
   "source": [
    "import pandas as pd\n",
    "from pathlib import Path\n",
    "import re"
   ]
  },
  {
   "cell_type": "code",
   "execution_count": 17,
   "id": "240ed2de",
   "metadata": {},
   "outputs": [],
   "source": [
    "# Set BASE_PATH to the directory containing the notebook/script\n",
    "BASE_PATH = Path().resolve()\n",
    "REPORTS_PATH = BASE_PATH / 'Lead'"
   ]
  },
  {
   "cell_type": "code",
   "execution_count": 18,
   "id": "ea4f1844",
   "metadata": {},
   "outputs": [],
   "source": [
    "# Use rglob() with the pattern '*.csv' to find all CSV files recursively\n",
    "csv_files = list(REPORTS_PATH.rglob('*.csv'))"
   ]
  },
  {
   "cell_type": "code",
   "execution_count": null,
   "id": "196d1c15",
   "metadata": {},
   "outputs": [],
   "source": [
    "# Print the list of found CSV files\n",
    "for f in csv_files:\n",
    "    print(f)"
   ]
  },
  {
   "cell_type": "code",
   "execution_count": null,
   "id": "745aa313",
   "metadata": {},
   "outputs": [],
   "source": [
    "def extract_year_from_filename(filename):\n",
    "    \"\"\"\n",
    "    Extracts the 4-digit year from a filename like 'Lead2019output.csv'.\n",
    "    Returns the year as a string, or None if not found.\n",
    "    \"\"\"\n",
    "    match = re.search(r'Lead(\\d{4})output\\.csv', str(filename))\n",
    "    if match:\n",
    "        return match.group(1)\n",
    "    return None"
   ]
  },
  {
   "cell_type": "code",
   "execution_count": 21,
   "id": "b25866a0",
   "metadata": {},
   "outputs": [],
   "source": [
    "all_dataframes = []\n",
    "years = []\n",
    "\n",
    "for f in csv_files:\n",
    "    year = extract_year_from_filename(f.name)\n",
    "    df = pd.read_csv(f)\n",
    "    \n",
    "    if year:\n",
    "        df[\"Year\"] = year\n",
    "        years.append(year)\n",
    "        \n",
    "    all_dataframes.append(df)"
   ]
  },
  {
   "cell_type": "code",
   "execution_count": 22,
   "id": "efa071ad",
   "metadata": {},
   "outputs": [],
   "source": [
    "combined_df = pd.concat(all_dataframes, ignore_index=True)"
   ]
  },
  {
   "cell_type": "code",
   "execution_count": null,
   "id": "e10cb694",
   "metadata": {},
   "outputs": [],
   "source": [
    "combined_df.head()"
   ]
  },
  {
   "cell_type": "code",
   "execution_count": 25,
   "id": "200f2d14",
   "metadata": {},
   "outputs": [],
   "source": [
    "combined_df.to_csv(BASE_PATH / f'Lead{years[0]}-{years[-1]}output.csv', index=False)"
   ]
  }
 ],
 "metadata": {
  "kernelspec": {
   "display_name": "Python 3",
   "language": "python",
   "name": "python3"
  },
  "language_info": {
   "codemirror_mode": {
    "name": "ipython",
    "version": 3
   },
   "file_extension": ".py",
   "mimetype": "text/x-python",
   "name": "python",
   "nbconvert_exporter": "python",
   "pygments_lexer": "ipython3",
   "version": "3.10.9"
  }
 },
 "nbformat": 4,
 "nbformat_minor": 5
}
